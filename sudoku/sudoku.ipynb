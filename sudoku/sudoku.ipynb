{
 "nbformat": 4,
 "nbformat_minor": 2,
 "metadata": {
  "language_info": {
   "name": "python",
   "codemirror_mode": {
    "name": "ipython",
    "version": 3
   },
   "version": "3.8.1-final"
  },
  "orig_nbformat": 2,
  "file_extension": ".py",
  "mimetype": "text/x-python",
  "name": "python",
  "npconvert_exporter": "python",
  "pygments_lexer": "ipython3",
  "version": 3,
  "kernelspec": {
   "name": "python38132bitd65ca00b87a3486fbe9eff1066cd7186",
   "display_name": "Python 3.8.1 32-bit"
  }
 },
 "cells": [
  {
   "cell_type": "code",
   "execution_count": 151,
   "metadata": {},
   "outputs": [],
   "source": [
    "import numpy as np\n",
    "\n",
    "\n",
    "board = \"\"\"\n",
    "031004700\n",
    "649200080\n",
    "027610409\n",
    "962078000\n",
    "005009603\n",
    "300500000\n",
    "090800010\n",
    "018005030\n",
    "753000024\"\"\"\n",
    "\n",
    "board = \"\"\"\n",
    "400000805\n",
    "030000000\n",
    "000700000\n",
    "020000060\n",
    "000080400\n",
    "000010000\n",
    "000603070\n",
    "500200000\n",
    "104000000\"\"\"\n"
   ]
  },
  {
   "cell_type": "code",
   "execution_count": 13,
   "metadata": {},
   "outputs": [],
   "source": [
    "def grid_from_string( sudoku_numbers ):\n",
    "    grid = np.array([[int(i) for i in line] for line in sudoku_numbers.split()])\n",
    "    return grid"
   ]
  },
  {
   "cell_type": "code",
   "execution_count": 16,
   "metadata": {},
   "outputs": [],
   "source": [
    "def check_sudoku(grid):\n",
    "    \"\"\" Return True if grid is a valid Sudoku square, otherwise False. \"\"\"\n",
    "    for i in range(9):\n",
    "        # j, k index top left hand corner of each 3x3 tile\n",
    "        j, k = (i // 3) * 3, (i % 3) * 3\n",
    "        print(\"i is \", i)\n",
    "        if len(set(grid[i,:])) != 9 or len(set(grid[:,i])) != 9\\\n",
    "                   or len(set(grid[j:j+3, k:k+3].ravel())) != 9:\n",
    "            return False\n",
    "    return True"
   ]
  },
  {
   "cell_type": "code",
   "execution_count": 17,
   "metadata": {},
   "outputs": [
    {
     "name": "stdout",
     "output_type": "stream",
     "text": "[[4 0 0 0 0 0 8 0 5]\n [0 3 0 0 0 0 0 0 0]\n [0 0 0 7 0 0 0 0 0]\n [0 2 0 0 0 0 0 6 0]\n [0 0 0 0 8 0 4 0 0]\n [0 0 0 0 1 0 0 0 0]\n [0 0 0 6 0 3 0 7 0]\n [5 0 0 2 0 0 0 0 0]\n [1 0 4 0 0 0 0 0 0]]\ni is  0\ngrid invalid\n"
    }
   ],
   "source": [
    "# Turn the provided string, sudoku, into an integer array\n",
    "grid = grid_from_string( board )\n",
    "print(grid)\n",
    "\n",
    "if check_sudoku(grid):\n",
    "    print('grid valid')\n",
    "else:\n",
    "    print('grid invalid')"
   ]
  },
  {
   "cell_type": "code",
   "execution_count": 146,
   "metadata": {},
   "outputs": [],
   "source": [
    "def display(grid):\n",
    "    sep = \" \"\n",
    "    cross = \" + \"\n",
    "    vbar = \"| \"\n",
    "    xbar = \"-\"*12\n",
    "    line = \"  \"\n",
    "    print(line)\n",
    "    for i in range(9):\n",
    "        if i in (3,6):\n",
    "            print(\"--------+-------+--------\")\n",
    "        line = vbar\n",
    "        for j in range(9):\n",
    "            line += str(grid[i,j]) + sep\n",
    "            if j in (2,5):\n",
    "                line += vbar\n",
    "        \n",
    "        line += vbar\n",
    "        print( line )"
   ]
  },
  {
   "cell_type": "code",
   "execution_count": 217,
   "metadata": {},
   "outputs": [
    {
     "name": "stdout",
     "output_type": "stream",
     "text": "\n| 6 4 9 | 8 3 1 | 7 5 2 | \n| 8 2 7 | 5 4 9 | 3 1 6 | \n| 5 3 1 | 6 7 2 | 4 8 9 | \n--------+-------+--------\n| 9 6 2 | 4 1 5 | 8 7 3 | \n| 1 8 5 | 7 6 3 | 9 2 4 | \n| 3 7 4 | 9 2 8 | 1 6 5 | \n--------+-------+--------\n| 7 5 3 | 2 8 4 | 6 9 1 | \n| 2 1 8 | 3 9 6 | 5 4 7 | \n| 4 9 6 | 1 5 7 | 2 3 8 | \n\nWall time: 253 ms\n"
    }
   ],
   "source": [
    "def solve(grid):\n",
    "\n",
    "    count = 0\n",
    "    for i in range(9):\n",
    "        for j in range(9):\n",
    "            \n",
    "            if grid[i,j] == 0:     \n",
    "                for n in possible_vals( i, j, grid ):\n",
    "                    grid[i,j] = n\n",
    "                    solve(grid)\n",
    "                    grid[i,j] = 0                \n",
    "                return \n",
    "\n",
    "    display( grid )\n",
    "    print(\"\")\n",
    "     \n",
    "\n",
    "\n",
    "def possible( r, c, n, grid ):\n",
    "    \n",
    "    print(grid[r,:])\n",
    "    if n in grid[r,:]:\n",
    "        return False \n",
    "    elif n in grid[:,c]:\n",
    "        return False\n",
    "    elif n in smallgrid( r,c,grid):\n",
    "        return False \n",
    "    else:\n",
    "        return True \n",
    "\n",
    "def smallgrid( r, c, grid ):\n",
    "    rr = r//3*3\n",
    "    cc = c//3*3\n",
    "\n",
    "    return grid[rr:rr+3, cc:cc+3]\n",
    "\n",
    "              \n",
    "%time solve( grid_from_string(board2))\n"
   ]
  },
  {
   "cell_type": "code",
   "execution_count": 206,
   "metadata": {},
   "outputs": [
    {
     "data": {
      "text/plain": "array([1, 5, 6, 7, 8, 9])"
     },
     "execution_count": 206,
     "metadata": {},
     "output_type": "execute_result"
    }
   ],
   "source": [
    "def possible_vals( r, c, grid):\n",
    "    possibles = np.arange(1,10)\n",
    "    \n",
    "    rr = grid[r,:]\n",
    "    cc = grid[:, c]\n",
    "    sg = smallgrid(r,c,grid)\n",
    "\n",
    "    vals = np.concatenate( (rr,cc,sg), axis=None) \n",
    "\n",
    "    poss = np.setdiff1d( possibles, vals )\n",
    "   \n",
    "\n",
    "    return poss \n",
    "\n",
    "possible_vals( 1,1,grid)"
   ]
  },
  {
   "cell_type": "code",
   "execution_count": 210,
   "metadata": {},
   "outputs": [
    {
     "name": "stdout",
     "output_type": "stream",
     "text": "\n| 6 4 9 | 8 3 1 | 7 5 2 | \n| 8 2 7 | 5 4 9 | 3 1 6 | \n| 5 3 1 | 6 7 2 | 4 8 9 | \n--------+-------+--------\n| 9 6 2 | 4 1 5 | 8 7 3 | \n| 1 8 5 | 7 6 3 | 9 2 4 | \n| 3 7 4 | 9 2 8 | 1 6 5 | \n--------+-------+--------\n| 7 5 3 | 2 8 4 | 6 9 1 | \n| 2 1 8 | 3 9 6 | 5 4 7 | \n| 4 9 6 | 1 5 7 | 2 3 8 | \n\nWall time: 319 ms\n"
    }
   ],
   "source": [
    "board2 = \"\"\"\n",
    "600030750\n",
    "020040016\n",
    "000072000\n",
    "000010003\n",
    "180060024\n",
    "000900065\n",
    "700004001\n",
    "000000040\n",
    "400157038\"\"\"\n",
    "\n",
    "%time solve( grid_from_string(board2))"
   ]
  },
  {
   "cell_type": "code",
   "execution_count": 156,
   "metadata": {},
   "outputs": [
    {
     "name": "stdout",
     "output_type": "stream",
     "text": "\n| 3 8 2 | 1 7 5 | 4 9 6 | \n| 4 7 5 | 3 6 9 | 2 1 8 | \n| 9 1 6 | 2 4 8 | 7 5 3 | \n--------+-------+--------\n| 8 9 4 | 6 2 7 | 5 3 1 | \n| 5 2 7 | 8 1 3 | 6 4 9 | \n| 1 6 3 | 5 9 4 | 8 2 7 | \n--------+-------+--------\n| 7 3 8 | 4 5 1 | 9 6 2 | \n| 6 5 1 | 9 8 2 | 3 7 4 | \n| 2 4 9 | 7 3 6 | 1 8 5 | \n\n"
    }
   ],
   "source": [
    "board3= \"\"\"\n",
    "080000090\n",
    "070060210\n",
    "006048700\n",
    "800000530\n",
    "020000000\n",
    "163000000\n",
    "000401900\n",
    "000000070\n",
    "209700005\"\"\"\n",
    "\n",
    "solve( grid_from_string( board3 ))"
   ]
  },
  {
   "cell_type": "code",
   "execution_count": 216,
   "metadata": {},
   "outputs": [
    {
     "name": "stdout",
     "output_type": "stream",
     "text": "Wall time: 0 ns\n  \n| 2 8 1 | 7 4 5 | 3 9 6 | \n| 4 6 9 | 8 3 2 | 1 5 7 | \n| 7 3 5 | 1 9 6 | 2 8 4 | \n--------+-------+--------\n| 5 1 3 | 9 8 4 | 6 7 2 | \n| 6 9 4 | 2 5 7 | 8 3 1 | \n| 8 7 2 | 6 1 3 | 5 4 9 | \n--------+-------+--------\n| 3 4 7 | 5 6 1 | 9 2 8 | \n| 1 5 8 | 4 2 9 | 7 6 3 | \n| 9 2 6 | 3 7 8 | 4 1 5 | \n\nWall time: 900 ms\n"
    }
   ],
   "source": [
    "%time \n",
    "board4 = \"\"\"\n",
    "080700300\n",
    "069800000\n",
    "000100204\n",
    "010004002\n",
    "000057030\n",
    "800600000\n",
    "340060000\n",
    "000000760\n",
    "000000010\"\"\"\n",
    "\n",
    "%time solve( grid_from_string(board4))"
   ]
  },
  {
   "cell_type": "code",
   "execution_count": 181,
   "metadata": {},
   "outputs": [
    {
     "data": {
      "text/plain": "array([0, 1, 2, 3, 4, 5, 6, 7, 8])"
     },
     "execution_count": 181,
     "metadata": {},
     "output_type": "execute_result"
    }
   ],
   "source": [
    "np.unique(grid)"
   ]
  },
  {
   "cell_type": "code",
   "execution_count": 193,
   "metadata": {},
   "outputs": [
    {
     "name": "stdout",
     "output_type": "stream",
     "text": "[0, 1, 2, 3, 4, 5, 6, 7, 8, 9]\n[0 3]\n -  0\n[1, 2, 3, 4, 5, 6, 7, 8, 9]\n -  3\n[1, 2, 4, 5, 6, 7, 8, 9]\n"
    }
   ],
   "source": [
    "poss = [0,1,2,3,4,5,6,7,8,9]\n",
    "print(poss)\n",
    "a = np.unique(grid[1,:])\n",
    "print(a)\n",
    "for i in a:\n",
    "    print(\" - \", i)\n",
    "    poss.remove(i)\n",
    "\n",
    "    print(poss)"
   ]
  },
  {
   "cell_type": "code",
   "execution_count": 220,
   "metadata": {},
   "outputs": [
    {
     "name": "stdout",
     "output_type": "stream",
     "text": "1, 2, 3, 5, 8, 13\n1, 2, 3, 5, 8, \n1, 2, 3, 5, \n1, 2, 3, \n1, 2, \n1, \n"
    }
   ],
   "source": [
    "def recurse(val, oldval, text, limit ):\n",
    "    new_val = val + oldval\n",
    "    text += str(new_val)\n",
    "    if new_val <limit:\n",
    "        text += \", \"\n",
    "        recurse(new_val, val, text, limit)\n",
    "    print(text)\n",
    "\n",
    "recurse (1,0, \"\", 10)     "
   ]
  },
  {
   "cell_type": "code",
   "execution_count": 19,
   "metadata": {},
   "outputs": [
    {
     "name": "stdout",
     "output_type": "stream",
     "text": "True\nTrue\nTrue\nTrue\nTrue\nTrue\n500500\nWall time: 1 ms\n500500\nWall time: 1.9 ms\n50000005000000\nWall time: 1.04 s\n"
    }
   ],
   "source": [
    "def fibonachi(num):\n",
    "    if num == 1:\n",
    "        return 1 \n",
    "    else:\n",
    "        return num + fibonachi(num-1)\n",
    "\n",
    "def looper(num):\n",
    "    \n",
    "    sum = 0\n",
    "    for i in range(1,num+1):\n",
    "        sum += i\n",
    "    \n",
    "    return sum\n",
    "\n",
    "print( fibonachi(1) == 1)\n",
    "print( fibonachi(2) == 3)\n",
    "print( fibonachi(3) == 6)\n",
    "print( fibonachi(4) == 10)\n",
    "print( fibonachi(5) == 15)\n",
    "print( looper(6) == 21)\n",
    "\n",
    "%time print( fibonachi(1000) )\n",
    "%time print( looper(1000) )  \n",
    "%time print( looper(10000000))     "
   ]
  },
  {
   "cell_type": "code",
   "execution_count": 21,
   "metadata": {},
   "outputs": [
    {
     "name": "stdout",
     "output_type": "stream",
     "text": "2\n"
    }
   ],
   "source": [
    "print( True + True  )"
   ]
  },
  {
   "cell_type": "code",
   "execution_count": 27,
   "metadata": {},
   "outputs": [
    {
     "name": "stdout",
     "output_type": "stream",
     "text": "False\n1 2\nTrue\n2 2\n"
    }
   ],
   "source": [
    "\n",
    "a = 1\n",
    "b = 2\n",
    "print( a == b )\n",
    "print( a, b )\n",
    "\n",
    "a = b\n",
    "\n",
    "print( a == b )\n",
    "print( a, b )"
   ]
  },
  {
   "cell_type": "code",
   "execution_count": 29,
   "metadata": {},
   "outputs": [
    {
     "name": "stdout",
     "output_type": "stream",
     "text": "10\n10\n"
    }
   ],
   "source": [
    "print( abs(10) )\n",
    "print( abs( -10 ))"
   ]
  },
  {
   "cell_type": "code",
   "execution_count": 31,
   "metadata": {},
   "outputs": [
    {
     "data": {
      "text/plain": "True"
     },
     "execution_count": 31,
     "metadata": {},
     "output_type": "execute_result"
    }
   ],
   "source": [
    "(100-91)<10\n"
   ]
  },
  {
   "cell_type": "code",
   "execution_count": null,
   "metadata": {},
   "outputs": [],
   "source": []
  }
 ]
}