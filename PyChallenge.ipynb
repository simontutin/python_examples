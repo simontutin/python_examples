{
 "nbformat": 4,
 "nbformat_minor": 2,
 "metadata": {
  "language_info": {
   "name": "python",
   "codemirror_mode": {
    "name": "ipython",
    "version": 3
   },
   "version": "3.8.1-final"
  },
  "orig_nbformat": 2,
  "file_extension": ".py",
  "mimetype": "text/x-python",
  "name": "python",
  "npconvert_exporter": "python",
  "pygments_lexer": "ipython3",
  "version": 3,
  "kernelspec": {
   "name": "python38132bitd65ca00b87a3486fbe9eff1066cd7186",
   "display_name": "Python 3.8.1 32-bit"
  }
 },
 "cells": [
  {
   "cell_type": "code",
   "execution_count": 4,
   "metadata": {},
   "outputs": [
    {
     "name": "stdout",
     "output_type": "stream",
     "text": "http://www.pythonchallenge.com/pc/def/274877906944.html\n"
    },
    {
     "data": {
      "text/plain": "'http://www.pythonchallenge.com/pc/def/ocr.html'"
     },
     "execution_count": 4,
     "metadata": {},
     "output_type": "execute_result"
    }
   ],
   "source": [
    "s = \"http://www.pythonchallenge.com/pc/def/\"\n",
    "send = \".html\"\n",
    "\n",
    "url = s + str(2**38) + send\n",
    "\n",
    "\n",
    "print(url)\n",
    "\n",
    "\n",
    "\"http://www.pythonchallenge.com/pc/def/ocr.html\""
   ]
  },
  {
   "cell_type": "code",
   "execution_count": null,
   "metadata": {},
   "outputs": [],
   "source": []
  }
 ]
}